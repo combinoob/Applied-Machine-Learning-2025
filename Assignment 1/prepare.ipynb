{
 "cells": [
  {
   "cell_type": "code",
   "execution_count": 1,
   "metadata": {},
   "outputs": [],
   "source": [
    "import pandas as pd\n",
    "import numpy as np\n",
    "from sklearn.model_selection import train_test_split\n",
    "from sklearn.feature_extraction.text import CountVectorizer\n",
    "import re"
   ]
  },
  {
   "cell_type": "code",
   "execution_count": 2,
   "metadata": {},
   "outputs": [],
   "source": [
    "def load_data(file_path):\n",
    "    \"\"\"Loads the SMS spam dataset from the given file path.\"\"\"\n",
    "    df = pd.read_csv(file_path, sep='\\t', header=None, names=['label', 'message'])\n",
    "    return df"
   ]
  },
  {
   "cell_type": "code",
   "execution_count": 3,
   "metadata": {},
   "outputs": [],
   "source": [
    "def preprocess_text(text):\n",
    "    \"\"\"Preprocess text by converting to lowercase, removing special characters, and extra whitespace.\"\"\"\n",
    "    text = text.lower()\n",
    "    text = re.sub(r'[^a-zA-Z0-9\\s]', '', text)\n",
    "    text = re.sub(r'\\s+', ' ', text).strip()\n",
    "    return text"
   ]
  },
  {
   "cell_type": "code",
   "execution_count": 4,
   "metadata": {},
   "outputs": [],
   "source": [
    "def prepare_data(df):\n",
    "    \"\"\"Prepares data by preprocessing text, encoding labels, and splitting into train/validation/test.\"\"\"\n",
    "    df = df.copy()\n",
    "    df['message'] = df['message'].apply(preprocess_text)\n",
    "    df['label'] = (df['label'] == 'spam').astype(int)\n",
    "    df['message'] = df['message'].fillna('')\n",
    "    \n",
    "    train_val, test = train_test_split(df, test_size=0.2, random_state=42, stratify=df['label'])\n",
    "    train, validation = train_test_split(train_val, test_size=0.25, random_state=42, stratify=train_val['label'])\n",
    "    \n",
    "    train.to_csv('train.csv', index=False)\n",
    "    validation.to_csv('validation.csv', index=False)\n",
    "    test.to_csv('test.csv', index=False)\n",
    "    \n",
    "    print(f\"Data split sizes:\")\n",
    "    print(f\"Train: {len(train)} samples\")\n",
    "    print(f\"Validation: {len(validation)} samples\")\n",
    "    print(f\"Test: {len(test)} samples\")\n",
    "    \n",
    "    return train, validation, test"
   ]
  },
  {
   "cell_type": "code",
   "execution_count": 5,
   "metadata": {},
   "outputs": [
    {
     "name": "stdout",
     "output_type": "stream",
     "text": [
      "Data split sizes:\n",
      "Train: 3342 samples\n",
      "Validation: 1115 samples\n",
      "Test: 1115 samples\n"
     ]
    }
   ],
   "source": [
    "if __name__ == \"__main__\":\n",
    "    file_path = 'sms+spam+collection/SMSSpamCollection'\n",
    "    df = load_data(file_path)\n",
    "    train, validation, test = prepare_data(df)"
   ]
  },
  {
   "cell_type": "code",
   "execution_count": null,
   "metadata": {},
   "outputs": [],
   "source": []
  }
 ],
 "metadata": {
  "kernelspec": {
   "display_name": "Python 3 (ipykernel)",
   "language": "python",
   "name": "python3"
  },
  "language_info": {
   "codemirror_mode": {
    "name": "ipython",
    "version": 3
   },
   "file_extension": ".py",
   "mimetype": "text/x-python",
   "name": "python",
   "nbconvert_exporter": "python",
   "pygments_lexer": "ipython3",
   "version": "3.10.13"
  }
 },
 "nbformat": 4,
 "nbformat_minor": 2
}
