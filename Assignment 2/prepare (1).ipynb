{
 "cells": [
  {
   "cell_type": "code",
   "execution_count": 1,
   "metadata": {},
   "outputs": [
    {
     "name": "stdout",
     "output_type": "stream",
     "text": [
      "Requirement already satisfied: pandas in c:\\users\\nirjhar nath\\anaconda3\\new folder\\lib\\site-packages (1.5.3)\n",
      "Requirement already satisfied: numpy in c:\\users\\nirjhar nath\\anaconda3\\new folder\\lib\\site-packages (1.23.5)\n",
      "Requirement already satisfied: scikit-learn in c:\\users\\nirjhar nath\\anaconda3\\new folder\\lib\\site-packages (1.4.1.post1)\n",
      "Collecting dvc[gs]\n",
      "  Downloading dvc-3.59.1-py3-none-any.whl (457 kB)\n",
      "     ------------------------------------ 457.7/457.7 kB 251.2 kB/s eta 0:00:00\n",
      "Collecting mlflow\n",
      "  Downloading mlflow-2.20.3-py3-none-any.whl (28.4 MB)\n",
      "     -------------------------------------- 28.4/28.4 MB 433.5 kB/s eta 0:00:00\n",
      "Requirement already satisfied: pytz>=2020.1 in c:\\users\\nirjhar nath\\anaconda3\\new folder\\lib\\site-packages (from pandas) (2022.7)\n",
      "Requirement already satisfied: python-dateutil>=2.8.1 in c:\\users\\nirjhar nath\\anaconda3\\new folder\\lib\\site-packages (from pandas) (2.8.2)\n",
      "Requirement already satisfied: joblib>=1.2.0 in c:\\users\\nirjhar nath\\anaconda3\\new folder\\lib\\site-packages (from scikit-learn) (1.3.2)\n",
      "Requirement already satisfied: scipy>=1.6.0 in c:\\users\\nirjhar nath\\anaconda3\\new folder\\lib\\site-packages (from scikit-learn) (1.10.0)\n",
      "Requirement already satisfied: threadpoolctl>=2.0.0 in c:\\users\\nirjhar nath\\anaconda3\\new folder\\lib\\site-packages (from scikit-learn) (2.2.0)\n",
      "Collecting gto<2,>=1.6.0\n",
      "  Downloading gto-1.7.2-py3-none-any.whl (45 kB)\n",
      "     -------------------------------------- 45.2/45.2 kB 249.9 kB/s eta 0:00:00\n",
      "Collecting zc.lockfile>=1.2.1\n",
      "  Downloading zc.lockfile-3.0.post1-py3-none-any.whl (9.8 kB)\n",
      "Requirement already satisfied: distro>=1.3 in c:\\users\\nirjhar nath\\anaconda3\\new folder\\lib\\site-packages (from dvc[gs]) (1.8.0)\n",
      "Collecting celery\n",
      "  Downloading celery-5.4.0-py3-none-any.whl (425 kB)\n",
      "     ------------------------------------ 426.0/426.0 kB 542.7 kB/s eta 0:00:00\n",
      "Requirement already satisfied: networkx>=2.5 in c:\\users\\nirjhar nath\\anaconda3\\new folder\\lib\\site-packages (from dvc[gs]) (2.8.4)\n",
      "Collecting dpath<3,>=2.1.0\n",
      "  Downloading dpath-2.2.0-py3-none-any.whl (17 kB)\n",
      "Requirement already satisfied: tomlkit>=0.11.1 in c:\\users\\nirjhar nath\\anaconda3\\new folder\\lib\\site-packages (from dvc[gs]) (0.11.1)\n",
      "Requirement already satisfied: pyparsing>=2.4.7 in c:\\users\\nirjhar nath\\anaconda3\\new folder\\lib\\site-packages (from dvc[gs]) (3.0.9)\n",
      "Collecting configobj>=5.0.9\n",
      "  Downloading configobj-5.0.9-py2.py3-none-any.whl (35 kB)\n",
      "Collecting dvc-objects\n",
      "  Downloading dvc_objects-5.1.0-py3-none-any.whl (33 kB)\n",
      "Collecting funcy>=1.14\n",
      "  Downloading funcy-2.0-py2.py3-none-any.whl (30 kB)\n",
      "Collecting dvc-task<1,>=0.3.0\n",
      "  Downloading dvc_task-0.40.2-py3-none-any.whl (21 kB)\n",
      "Collecting iterative-telemetry>=0.0.7\n",
      "  Downloading iterative_telemetry-0.0.10-py3-none-any.whl (10 kB)\n",
      "Requirement already satisfied: fsspec>=2024.2.0 in c:\\users\\nirjhar nath\\anaconda3\\new folder\\lib\\site-packages (from dvc[gs]) (2024.5.0)\n",
      "Requirement already satisfied: packaging>=19 in c:\\users\\nirjhar nath\\anaconda3\\new folder\\lib\\site-packages (from dvc[gs]) (23.2)\n",
      "Requirement already satisfied: rich>=12 in c:\\users\\nirjhar nath\\anaconda3\\new folder\\lib\\site-packages (from dvc[gs]) (13.7.1)\n",
      "Collecting grandalf<1,>=0.7\n",
      "  Downloading grandalf-0.8-py3-none-any.whl (41 kB)\n",
      "     -------------------------------------- 41.8/41.8 kB 289.6 kB/s eta 0:00:00\n",
      "Collecting pydot>=1.2.4\n",
      "  Downloading pydot-3.0.4-py3-none-any.whl (35 kB)\n",
      "Collecting omegaconf\n",
      "  Downloading omegaconf-2.3.0-py3-none-any.whl (79 kB)\n",
      "     -------------------------------------- 79.5/79.5 kB 316.3 kB/s eta 0:00:00\n",
      "Collecting scmrepo<4,>=3.3.8\n",
      "  Downloading scmrepo-3.3.10-py3-none-any.whl (73 kB)\n",
      "     -------------------------------------- 73.7/73.7 kB 450.0 kB/s eta 0:00:00\n",
      "Requirement already satisfied: attrs>=22.2.0 in c:\\users\\nirjhar nath\\anaconda3\\new folder\\lib\\site-packages (from dvc[gs]) (23.2.0)\n",
      "Requirement already satisfied: tqdm<5,>=4.63.1 in c:\\users\\nirjhar nath\\anaconda3\\new folder\\lib\\site-packages (from dvc[gs]) (4.66.4)\n",
      "Requirement already satisfied: colorama>=0.3.9 in c:\\users\\nirjhar nath\\anaconda3\\new folder\\lib\\site-packages (from dvc[gs]) (0.4.6)\n",
      "Collecting pygtrie>=2.3.2\n",
      "  Downloading pygtrie-2.5.0-py3-none-any.whl (25 kB)\n",
      "Collecting dvc-studio-client<1,>=0.21\n",
      "  Downloading dvc_studio_client-0.21.0-py3-none-any.whl (16 kB)\n",
      "Collecting dvc-data<3.17,>=3.16.2\n",
      "  Downloading dvc_data-3.16.9-py3-none-any.whl (77 kB)\n",
      "     ---------------------------------------- 77.2/77.2 kB 1.1 MB/s eta 0:00:00\n",
      "Requirement already satisfied: pathspec>=0.10.3 in c:\\users\\nirjhar nath\\anaconda3\\new folder\\lib\\site-packages (from dvc[gs]) (0.10.3)\n",
      "Collecting dulwich\n",
      "  Downloading dulwich-0.22.8-cp310-cp310-win_amd64.whl (609 kB)\n",
      "     ------------------------------------ 609.2/609.2 kB 435.6 kB/s eta 0:00:00\n",
      "Requirement already satisfied: requests>=2.22 in c:\\users\\nirjhar nath\\anaconda3\\new folder\\lib\\site-packages (from dvc[gs]) (2.32.2)\n",
      "Collecting shtab<2,>=1.3.4\n",
      "  Downloading shtab-1.7.1-py3-none-any.whl (14 kB)\n",
      "Collecting dvc-render<2,>=1.0.1\n",
      "  Downloading dvc_render-1.0.2-py3-none-any.whl (22 kB)\n",
      "Collecting shortuuid>=0.5\n",
      "  Downloading shortuuid-1.0.13-py3-none-any.whl (10 kB)\n",
      "Requirement already satisfied: psutil>=5.8 in c:\\users\\nirjhar nath\\anaconda3\\new folder\\lib\\site-packages (from dvc[gs]) (5.9.0)\n",
      "Collecting dvc-http>=2.29.0\n",
      "  Downloading dvc_http-2.32.0-py3-none-any.whl (12 kB)\n",
      "Requirement already satisfied: tabulate>=0.8.7 in c:\\users\\nirjhar nath\\anaconda3\\new folder\\lib\\site-packages (from dvc[gs]) (0.8.10)\n",
      "Requirement already satisfied: ruamel.yaml>=0.17.11 in c:\\users\\nirjhar nath\\anaconda3\\new folder\\lib\\site-packages (from dvc[gs]) (0.17.21)\n",
      "Collecting kombu\n",
      "  Downloading kombu-5.4.2-py3-none-any.whl (201 kB)\n",
      "     ------------------------------------ 201.3/201.3 kB 452.9 kB/s eta 0:00:00\n",
      "Collecting flufl.lock<9,>=8.1.0\n",
      "  Downloading flufl_lock-8.1.0-py3-none-any.whl (11 kB)\n",
      "Collecting voluptuous>=0.11.7\n",
      "  Downloading voluptuous-0.15.2-py3-none-any.whl (31 kB)\n",
      "Requirement already satisfied: platformdirs<5,>=3.1.1 in c:\\users\\nirjhar nath\\anaconda3\\new folder\\lib\\site-packages (from dvc[gs]) (3.10.0)\n",
      "Collecting flatten_dict<1,>=0.4.1\n",
      "  Downloading flatten_dict-0.4.2-py2.py3-none-any.whl (9.7 kB)\n",
      "Collecting hydra-core>=1.1\n",
      "  Downloading hydra_core-1.3.2-py3-none-any.whl (154 kB)\n",
      "     ------------------------------------ 154.5/154.5 kB 771.7 kB/s eta 0:00:00\n",
      "Collecting dvc-gs<4,>=3\n",
      "  Downloading dvc_gs-3.0.1-py3-none-any.whl (10 kB)\n",
      "Collecting docker<8,>=4.0.0\n",
      "  Downloading docker-7.1.0-py3-none-any.whl (147 kB)\n",
      "     ------------------------------------ 147.8/147.8 kB 587.8 kB/s eta 0:00:00\n",
      "Collecting graphene<4\n",
      "  Downloading graphene-3.4.3-py2.py3-none-any.whl (114 kB)\n",
      "     ------------------------------------ 114.9/114.9 kB 393.4 kB/s eta 0:00:00\n",
      "Requirement already satisfied: alembic!=1.10.0,<2 in c:\\users\\nirjhar nath\\anaconda3\\new folder\\lib\\site-packages (from mlflow) (1.13.1)\n",
      "Requirement already satisfied: sqlalchemy<3,>=1.4.0 in c:\\users\\nirjhar nath\\anaconda3\\new folder\\lib\\site-packages (from mlflow) (2.0.30)\n",
      "Collecting mlflow-skinny==2.20.3\n",
      "  Downloading mlflow_skinny-2.20.3-py3-none-any.whl (6.0 MB)\n",
      "     ---------------------------------------- 6.0/6.0 MB 585.2 kB/s eta 0:00:00\n",
      "Requirement already satisfied: pyarrow<20,>=4.0.0 in c:\\users\\nirjhar nath\\anaconda3\\new folder\\lib\\site-packages (from mlflow) (16.1.0)\n",
      "Requirement already satisfied: Flask<4 in c:\\users\\nirjhar nath\\anaconda3\\new folder\\lib\\site-packages (from mlflow) (2.2.2)\n",
      "Requirement already satisfied: Jinja2<4,>=3.0 in c:\\users\\nirjhar nath\\anaconda3\\new folder\\lib\\site-packages (from mlflow) (3.1.4)\n",
      "Requirement already satisfied: markdown<4,>=3.3 in c:\\users\\nirjhar nath\\anaconda3\\new folder\\lib\\site-packages (from mlflow) (3.4.1)\n",
      "Requirement already satisfied: matplotlib<4 in c:\\users\\nirjhar nath\\anaconda3\\new folder\\lib\\site-packages (from mlflow) (3.9.0)\n",
      "Collecting waitress<4\n",
      "  Downloading waitress-3.0.2-py3-none-any.whl (56 kB)\n",
      "     -------------------------------------- 56.2/56.2 kB 367.9 kB/s eta 0:00:00\n",
      "Requirement already satisfied: pyyaml<7,>=5.1 in c:\\users\\nirjhar nath\\anaconda3\\new folder\\lib\\site-packages (from mlflow-skinny==2.20.3->mlflow) (6.0)\n",
      "Requirement already satisfied: cloudpickle<4 in c:\\users\\nirjhar nath\\anaconda3\\new folder\\lib\\site-packages (from mlflow-skinny==2.20.3->mlflow) (2.0.0)\n",
      "Collecting sqlparse<1,>=0.4.0\n",
      "  Downloading sqlparse-0.5.3-py3-none-any.whl (44 kB)\n",
      "     -------------------------------------- 44.4/44.4 kB 542.5 kB/s eta 0:00:00\n",
      "Requirement already satisfied: cachetools<6,>=5.0.0 in c:\\users\\nirjhar nath\\anaconda3\\new folder\\lib\\site-packages (from mlflow-skinny==2.20.3->mlflow) (5.3.2)\n",
      "Requirement already satisfied: click<9,>=7.0 in c:\\users\\nirjhar nath\\anaconda3\\new folder\\lib\\site-packages (from mlflow-skinny==2.20.3->mlflow) (8.1.7)\n",
      "Requirement already satisfied: pydantic<3,>=1.10.8 in c:\\users\\nirjhar nath\\anaconda3\\new folder\\lib\\site-packages (from mlflow-skinny==2.20.3->mlflow) (2.7.1)\n",
      "Requirement already satisfied: gitpython<4,>=3.1.9 in c:\\users\\nirjhar nath\\anaconda3\\new folder\\lib\\site-packages (from mlflow-skinny==2.20.3->mlflow) (3.1.43)\n",
      "Requirement already satisfied: typing-extensions<5,>=4.0.0 in c:\\users\\nirjhar nath\\anaconda3\\new folder\\lib\\site-packages (from mlflow-skinny==2.20.3->mlflow) (4.11.0)\n",
      "Requirement already satisfied: opentelemetry-api<3,>=1.9.0 in c:\\users\\nirjhar nath\\anaconda3\\new folder\\lib\\site-packages (from mlflow-skinny==2.20.3->mlflow) (1.24.0)\n",
      "Requirement already satisfied: protobuf<6,>=3.12.0 in c:\\users\\nirjhar nath\\anaconda3\\new folder\\lib\\site-packages (from mlflow-skinny==2.20.3->mlflow) (4.25.3)\n",
      "Requirement already satisfied: opentelemetry-sdk<3,>=1.9.0 in c:\\users\\nirjhar nath\\anaconda3\\new folder\\lib\\site-packages (from mlflow-skinny==2.20.3->mlflow) (1.24.0)\n",
      "Collecting databricks-sdk<1,>=0.20.0\n",
      "  Downloading databricks_sdk-0.44.1-py3-none-any.whl (648 kB)\n",
      "     ------------------------------------ 648.7/648.7 kB 591.7 kB/s eta 0:00:00\n",
      "Requirement already satisfied: importlib_metadata!=4.7.0,<9,>=3.7.0 in c:\\users\\nirjhar nath\\anaconda3\\new folder\\lib\\site-packages (from mlflow-skinny==2.20.3->mlflow) (7.0.0)\n",
      "Requirement already satisfied: Mako in c:\\users\\nirjhar nath\\anaconda3\\new folder\\lib\\site-packages (from alembic!=1.10.0,<2->mlflow) (1.3.5)\n",
      "Requirement already satisfied: urllib3>=1.26.0 in c:\\users\\nirjhar nath\\anaconda3\\new folder\\lib\\site-packages (from docker<8,>=4.0.0->mlflow) (1.26.18)\n",
      "Requirement already satisfied: pywin32>=304 in c:\\users\\nirjhar nath\\anaconda3\\new folder\\lib\\site-packages (from docker<8,>=4.0.0->mlflow) (305.1)\n",
      "Collecting diskcache>=5.2.1\n",
      "  Downloading diskcache-5.6.3-py3-none-any.whl (45 kB)\n",
      "     -------------------------------------- 45.5/45.5 kB 767.6 kB/s eta 0:00:00\n",
      "Collecting sqltrie<1,>=0.11.0\n",
      "  Downloading sqltrie-0.11.2-py3-none-any.whl (17 kB)\n",
      "Collecting dictdiffer>=0.8.1\n",
      "  Downloading dictdiffer-0.9.0-py2.py3-none-any.whl (16 kB)\n",
      "Requirement already satisfied: orjson<4,>=3 in c:\\users\\nirjhar nath\\anaconda3\\new folder\\lib\\site-packages (from dvc-data<3.17,>=3.16.2->dvc[gs]) (3.10.3)\n",
      "Collecting gcsfs>=2022.11.0\n",
      "  Downloading gcsfs-2025.2.0-py2.py3-none-any.whl (35 kB)\n",
      "Collecting aiohttp-retry>=2.5.0\n",
      "  Downloading aiohttp_retry-2.9.1-py3-none-any.whl (10.0 kB)\n",
      "Collecting click-repl>=0.2.0\n",
      "  Downloading click_repl-0.3.0-py3-none-any.whl (10 kB)\n",
      "Collecting vine<6.0,>=5.1.0\n",
      "  Downloading vine-5.1.0-py3-none-any.whl (9.6 kB)\n",
      "Collecting billiard<5.0,>=4.2.0\n",
      "  Downloading billiard-4.2.1-py3-none-any.whl (86 kB)\n",
      "     -------------------------------------- 86.8/86.8 kB 981.1 kB/s eta 0:00:00\n",
      "Collecting tzdata>=2022.7\n",
      "  Downloading tzdata-2025.1-py2.py3-none-any.whl (346 kB)\n",
      "     ------------------------------------ 346.8/346.8 kB 525.0 kB/s eta 0:00:00\n",
      "Collecting click-plugins>=1.1.1\n",
      "  Downloading click_plugins-1.1.1-py2.py3-none-any.whl (7.5 kB)\n",
      "Collecting click-didyoumean>=0.3.0\n",
      "  Downloading click_didyoumean-0.3.1-py3-none-any.whl (3.6 kB)\n",
      "Requirement already satisfied: itsdangerous>=2.0 in c:\\users\\nirjhar nath\\anaconda3\\new folder\\lib\\site-packages (from Flask<4->mlflow) (2.0.1)\n",
      "Requirement already satisfied: Werkzeug>=2.2.2 in c:\\users\\nirjhar nath\\anaconda3\\new folder\\lib\\site-packages (from Flask<4->mlflow) (2.2.2)\n",
      "Requirement already satisfied: six<2.0,>=1.12 in c:\\users\\nirjhar nath\\anaconda3\\new folder\\lib\\site-packages (from flatten_dict<1,>=0.4.1->dvc[gs]) (1.16.0)\n",
      "Collecting atpublic\n",
      "  Downloading atpublic-5.1-py3-none-any.whl (5.2 kB)\n",
      "Collecting graphql-core<3.3,>=3.1\n",
      "  Downloading graphql_core-3.2.6-py3-none-any.whl (203 kB)\n",
      "     ------------------------------------ 203.4/203.4 kB 386.4 kB/s eta 0:00:00\n",
      "Collecting graphql-relay<3.3,>=3.1\n",
      "  Downloading graphql_relay-3.2.0-py3-none-any.whl (16 kB)\n",
      "Requirement already satisfied: typer>=0.4.1 in c:\\users\\nirjhar nath\\anaconda3\\new folder\\lib\\site-packages (from gto<2,>=1.6.0->dvc[gs]) (0.9.4)\n",
      "Requirement already satisfied: entrypoints in c:\\users\\nirjhar nath\\anaconda3\\new folder\\lib\\site-packages (from gto<2,>=1.6.0->dvc[gs]) (0.4)\n",
      "Requirement already satisfied: semver>=2.13.0 in c:\\users\\nirjhar nath\\anaconda3\\new folder\\lib\\site-packages (from gto<2,>=1.6.0->dvc[gs]) (3.0.2)\n",
      "Collecting antlr4-python3-runtime==4.9.*\n",
      "  Downloading antlr4-python3-runtime-4.9.3.tar.gz (117 kB)\n",
      "     ------------------------------------ 117.0/117.0 kB 684.6 kB/s eta 0:00:00\n",
      "  Preparing metadata (setup.py): started\n",
      "  Preparing metadata (setup.py): finished with status 'done'\n",
      "Requirement already satisfied: appdirs in c:\\users\\nirjhar nath\\anaconda3\\new folder\\lib\\site-packages (from iterative-telemetry>=0.0.7->dvc[gs]) (1.4.4)\n",
      "Requirement already satisfied: filelock in c:\\users\\nirjhar nath\\anaconda3\\new folder\\lib\\site-packages (from iterative-telemetry>=0.0.7->dvc[gs]) (3.9.0)\n",
      "Requirement already satisfied: MarkupSafe>=2.0 in c:\\users\\nirjhar nath\\anaconda3\\new folder\\lib\\site-packages (from Jinja2<4,>=3.0->mlflow) (2.1.1)\n",
      "Collecting amqp<6.0.0,>=5.1.1\n",
      "  Downloading amqp-5.3.1-py3-none-any.whl (50 kB)\n",
      "     -------------------------------------- 50.9/50.9 kB 373.4 kB/s eta 0:00:00\n",
      "Requirement already satisfied: cycler>=0.10 in c:\\users\\nirjhar nath\\anaconda3\\new folder\\lib\\site-packages (from matplotlib<4->mlflow) (0.11.0)\n",
      "Requirement already satisfied: kiwisolver>=1.3.1 in c:\\users\\nirjhar nath\\anaconda3\\new folder\\lib\\site-packages (from matplotlib<4->mlflow) (1.4.4)\n",
      "Requirement already satisfied: pillow>=8 in c:\\users\\nirjhar nath\\anaconda3\\new folder\\lib\\site-packages (from matplotlib<4->mlflow) (10.3.0)\n",
      "Requirement already satisfied: fonttools>=4.22.0 in c:\\users\\nirjhar nath\\anaconda3\\new folder\\lib\\site-packages (from matplotlib<4->mlflow) (4.25.0)\n",
      "Requirement already satisfied: contourpy>=1.0.1 in c:\\users\\nirjhar nath\\anaconda3\\new folder\\lib\\site-packages (from matplotlib<4->mlflow) (1.0.5)\n",
      "Requirement already satisfied: idna<4,>=2.5 in c:\\users\\nirjhar nath\\anaconda3\\new folder\\lib\\site-packages (from requests>=2.22->dvc[gs]) (3.4)\n",
      "Requirement already satisfied: certifi>=2017.4.17 in c:\\users\\nirjhar nath\\anaconda3\\new folder\\lib\\site-packages (from requests>=2.22->dvc[gs]) (2024.2.2)\n",
      "Requirement already satisfied: charset-normalizer<4,>=2 in c:\\users\\nirjhar nath\\anaconda3\\new folder\\lib\\site-packages (from requests>=2.22->dvc[gs]) (2.0.4)\n",
      "Requirement already satisfied: pygments<3.0.0,>=2.13.0 in c:\\users\\nirjhar nath\\anaconda3\\new folder\\lib\\site-packages (from rich>=12->dvc[gs]) (2.18.0)\n",
      "Requirement already satisfied: markdown-it-py>=2.2.0 in c:\\users\\nirjhar nath\\anaconda3\\new folder\\lib\\site-packages (from rich>=12->dvc[gs]) (2.2.0)\n",
      "Requirement already satisfied: ruamel.yaml.clib>=0.2.6 in c:\\users\\nirjhar nath\\anaconda3\\new folder\\lib\\site-packages (from ruamel.yaml>=0.17.11->dvc[gs]) (0.2.6)\n",
      "Collecting asyncssh<3,>=2.13.1\n",
      "  Downloading asyncssh-2.20.0-py3-none-any.whl (373 kB)\n",
      "     ------------------------------------ 373.1/373.1 kB 663.4 kB/s eta 0:00:00\n",
      "Collecting pygit2>=1.14.0\n",
      "  Downloading pygit2-1.17.0-cp310-cp310-win_amd64.whl (1.3 MB)\n",
      "     ---------------------------------------- 1.3/1.3 MB 618.1 kB/s eta 0:00:00\n",
      "Requirement already satisfied: greenlet!=0.4.17 in c:\\users\\nirjhar nath\\anaconda3\\new folder\\lib\\site-packages (from sqlalchemy<3,>=1.4.0->mlflow) (2.0.1)\n",
      "Requirement already satisfied: setuptools in c:\\users\\nirjhar nath\\anaconda3\\new folder\\lib\\site-packages (from zc.lockfile>=1.2.1->dvc[gs]) (65.6.3)\n",
      "Requirement already satisfied: aiohttp in c:\\users\\nirjhar nath\\anaconda3\\new folder\\lib\\site-packages (from aiohttp-retry>=2.5.0->dvc-http>=2.29.0->dvc[gs]) (3.9.5)\n",
      "Requirement already satisfied: cryptography>=39.0 in c:\\users\\nirjhar nath\\anaconda3\\new folder\\lib\\site-packages (from asyncssh<3,>=2.13.1->scmrepo<4,>=3.3.8->dvc[gs]) (39.0.1)\n",
      "Requirement already satisfied: prompt-toolkit>=3.0.36 in c:\\users\\nirjhar nath\\anaconda3\\new folder\\lib\\site-packages (from click-repl>=0.2.0->celery->dvc[gs]) (3.0.36)\n",
      "Requirement already satisfied: google-auth~=2.0 in c:\\users\\nirjhar nath\\anaconda3\\new folder\\lib\\site-packages (from databricks-sdk<1,>=0.20.0->mlflow-skinny==2.20.3->mlflow) (2.28.0)\n",
      "Requirement already satisfied: google-auth-oauthlib in c:\\users\\nirjhar nath\\anaconda3\\new folder\\lib\\site-packages (from gcsfs>=2022.11.0->dvc-gs<4,>=3->dvc[gs]) (1.0.0)\n",
      "Requirement already satisfied: google-cloud-storage in c:\\users\\nirjhar nath\\anaconda3\\new folder\\lib\\site-packages (from gcsfs>=2022.11.0->dvc-gs<4,>=3->dvc[gs]) (2.16.0)\n",
      "Collecting gcsfs>=2022.11.0\n",
      "  Downloading gcsfs-2024.12.0-py2.py3-none-any.whl (35 kB)\n",
      "  Downloading gcsfs-2024.10.0-py2.py3-none-any.whl (34 kB)\n",
      "  Downloading gcsfs-2024.9.0.post1-py2.py3-none-any.whl (34 kB)\n",
      "  Downloading gcsfs-2024.6.1-py2.py3-none-any.whl (34 kB)\n",
      "  Downloading gcsfs-2024.6.0-py2.py3-none-any.whl (34 kB)\n",
      "  Downloading gcsfs-2024.5.0-py2.py3-none-any.whl (34 kB)\n",
      "Requirement already satisfied: decorator>4.1.2 in c:\\users\\nirjhar nath\\anaconda3\\new folder\\lib\\site-packages (from gcsfs>=2022.11.0->dvc-gs<4,>=3->dvc[gs]) (4.4.2)\n",
      "Requirement already satisfied: gitdb<5,>=4.0.1 in c:\\users\\nirjhar nath\\anaconda3\\new folder\\lib\\site-packages (from gitpython<4,>=3.1.9->mlflow-skinny==2.20.3->mlflow) (4.0.11)\n",
      "Requirement already satisfied: zipp>=0.5 in c:\\users\\nirjhar nath\\anaconda3\\new folder\\lib\\site-packages (from importlib_metadata!=4.7.0,<9,>=3.7.0->mlflow-skinny==2.20.3->mlflow) (3.11.0)\n",
      "Requirement already satisfied: mdurl~=0.1 in c:\\users\\nirjhar nath\\anaconda3\\new folder\\lib\\site-packages (from markdown-it-py>=2.2.0->rich>=12->dvc[gs]) (0.1.2)\n",
      "Requirement already satisfied: deprecated>=1.2.6 in c:\\users\\nirjhar nath\\anaconda3\\new folder\\lib\\site-packages (from opentelemetry-api<3,>=1.9.0->mlflow-skinny==2.20.3->mlflow) (1.2.13)\n",
      "Requirement already satisfied: opentelemetry-semantic-conventions==0.45b0 in c:\\users\\nirjhar nath\\anaconda3\\new folder\\lib\\site-packages (from opentelemetry-sdk<3,>=1.9.0->mlflow-skinny==2.20.3->mlflow) (0.45b0)\n",
      "Requirement already satisfied: pydantic-core==2.18.2 in c:\\users\\nirjhar nath\\anaconda3\\new folder\\lib\\site-packages (from pydantic<3,>=1.10.8->mlflow-skinny==2.20.3->mlflow) (2.18.2)\n",
      "Requirement already satisfied: annotated-types>=0.4.0 in c:\\users\\nirjhar nath\\anaconda3\\new folder\\lib\\site-packages (from pydantic<3,>=1.10.8->mlflow-skinny==2.20.3->mlflow) (0.7.0)\n",
      "Collecting cffi>=1.17.0\n",
      "  Downloading cffi-1.17.1-cp310-cp310-win_amd64.whl (181 kB)\n",
      "     ------------------------------------ 181.3/181.3 kB 731.0 kB/s eta 0:00:00\n",
      "Requirement already satisfied: aiosignal>=1.1.2 in c:\\users\\nirjhar nath\\anaconda3\\new folder\\lib\\site-packages (from aiohttp->aiohttp-retry>=2.5.0->dvc-http>=2.29.0->dvc[gs]) (1.3.1)\n",
      "Requirement already satisfied: multidict<7.0,>=4.5 in c:\\users\\nirjhar nath\\anaconda3\\new folder\\lib\\site-packages (from aiohttp->aiohttp-retry>=2.5.0->dvc-http>=2.29.0->dvc[gs]) (6.0.5)\n",
      "Requirement already satisfied: async-timeout<5.0,>=4.0 in c:\\users\\nirjhar nath\\anaconda3\\new folder\\lib\\site-packages (from aiohttp->aiohttp-retry>=2.5.0->dvc-http>=2.29.0->dvc[gs]) (4.0.3)\n",
      "Requirement already satisfied: yarl<2.0,>=1.0 in c:\\users\\nirjhar nath\\anaconda3\\new folder\\lib\\site-packages (from aiohttp->aiohttp-retry>=2.5.0->dvc-http>=2.29.0->dvc[gs]) (1.9.4)\n",
      "Requirement already satisfied: frozenlist>=1.1.1 in c:\\users\\nirjhar nath\\anaconda3\\new folder\\lib\\site-packages (from aiohttp->aiohttp-retry>=2.5.0->dvc-http>=2.29.0->dvc[gs]) (1.4.1)\n",
      "Requirement already satisfied: pycparser in c:\\users\\nirjhar nath\\anaconda3\\new folder\\lib\\site-packages (from cffi>=1.17.0->pygit2>=1.14.0->scmrepo<4,>=3.3.8->dvc[gs]) (2.21)\n",
      "Requirement already satisfied: wrapt<2,>=1.10 in c:\\users\\nirjhar nath\\anaconda3\\new folder\\lib\\site-packages (from deprecated>=1.2.6->opentelemetry-api<3,>=1.9.0->mlflow-skinny==2.20.3->mlflow) (1.14.1)\n",
      "Requirement already satisfied: smmap<6,>=3.0.1 in c:\\users\\nirjhar nath\\anaconda3\\new folder\\lib\\site-packages (from gitdb<5,>=4.0.1->gitpython<4,>=3.1.9->mlflow-skinny==2.20.3->mlflow) (5.0.1)\n",
      "Requirement already satisfied: rsa<5,>=3.1.4 in c:\\users\\nirjhar nath\\anaconda3\\new folder\\lib\\site-packages (from google-auth~=2.0->databricks-sdk<1,>=0.20.0->mlflow-skinny==2.20.3->mlflow) (4.9)\n",
      "Requirement already satisfied: pyasn1-modules>=0.2.1 in c:\\users\\nirjhar nath\\anaconda3\\new folder\\lib\\site-packages (from google-auth~=2.0->databricks-sdk<1,>=0.20.0->mlflow-skinny==2.20.3->mlflow) (0.2.8)\n",
      "Requirement already satisfied: wcwidth in c:\\users\\nirjhar nath\\anaconda3\\new folder\\lib\\site-packages (from prompt-toolkit>=3.0.36->click-repl>=0.2.0->celery->dvc[gs]) (0.2.5)\n",
      "Requirement already satisfied: requests-oauthlib>=0.7.0 in c:\\users\\nirjhar nath\\anaconda3\\new folder\\lib\\site-packages (from google-auth-oauthlib->gcsfs>=2022.11.0->dvc-gs<4,>=3->dvc[gs]) (1.3.1)\n",
      "Requirement already satisfied: google-api-core<3.0.0dev,>=2.15.0 in c:\\users\\nirjhar nath\\anaconda3\\new folder\\lib\\site-packages (from google-cloud-storage->gcsfs>=2022.11.0->dvc-gs<4,>=3->dvc[gs]) (2.19.0)\n",
      "Requirement already satisfied: google-resumable-media>=2.6.0 in c:\\users\\nirjhar nath\\anaconda3\\new folder\\lib\\site-packages (from google-cloud-storage->gcsfs>=2022.11.0->dvc-gs<4,>=3->dvc[gs]) (2.7.0)\n",
      "Requirement already satisfied: google-cloud-core<3.0dev,>=2.3.0 in c:\\users\\nirjhar nath\\anaconda3\\new folder\\lib\\site-packages (from google-cloud-storage->gcsfs>=2022.11.0->dvc-gs<4,>=3->dvc[gs]) (2.4.1)\n",
      "Requirement already satisfied: google-crc32c<2.0dev,>=1.0 in c:\\users\\nirjhar nath\\anaconda3\\new folder\\lib\\site-packages (from google-cloud-storage->gcsfs>=2022.11.0->dvc-gs<4,>=3->dvc[gs]) (1.5.0)\n",
      "Requirement already satisfied: proto-plus<2.0.0dev,>=1.22.3 in c:\\users\\nirjhar nath\\anaconda3\\new folder\\lib\\site-packages (from google-api-core<3.0.0dev,>=2.15.0->google-cloud-storage->gcsfs>=2022.11.0->dvc-gs<4,>=3->dvc[gs]) (1.23.0)\n",
      "Requirement already satisfied: googleapis-common-protos<2.0.dev0,>=1.56.2 in c:\\users\\nirjhar nath\\anaconda3\\new folder\\lib\\site-packages (from google-api-core<3.0.0dev,>=2.15.0->google-cloud-storage->gcsfs>=2022.11.0->dvc-gs<4,>=3->dvc[gs]) (1.63.0)\n",
      "Requirement already satisfied: pyasn1<0.5.0,>=0.4.6 in c:\\users\\nirjhar nath\\anaconda3\\new folder\\lib\\site-packages (from pyasn1-modules>=0.2.1->google-auth~=2.0->databricks-sdk<1,>=0.20.0->mlflow-skinny==2.20.3->mlflow) (0.4.8)\n",
      "Requirement already satisfied: oauthlib>=3.0.0 in c:\\users\\nirjhar nath\\anaconda3\\new folder\\lib\\site-packages (from requests-oauthlib>=0.7.0->google-auth-oauthlib->gcsfs>=2022.11.0->dvc-gs<4,>=3->dvc[gs]) (3.2.2)\n",
      "Building wheels for collected packages: antlr4-python3-runtime\n",
      "  Building wheel for antlr4-python3-runtime (setup.py): started\n",
      "  Building wheel for antlr4-python3-runtime (setup.py): finished with status 'done'\n",
      "  Created wheel for antlr4-python3-runtime: filename=antlr4_python3_runtime-4.9.3-py3-none-any.whl size=144578 sha256=9a59b7e98ea5359f7306ad7d120460762d8ceef39767ebed69669d33424e567e\n",
      "  Stored in directory: c:\\users\\nirjhar nath\\appdata\\local\\pip\\cache\\wheels\\48\\6a\\c2\\acb58c7afdf57e4cddf5e1513f5a2d62aa8e98f82a00c76d7c\n",
      "Successfully built antlr4-python3-runtime\n",
      "Installing collected packages: pygtrie, funcy, dictdiffer, antlr4-python3-runtime, zc.lockfile, waitress, voluptuous, vine, tzdata, sqltrie, sqlparse, shtab, shortuuid, pydot, omegaconf, graphql-core, grandalf, flatten_dict, dvc-render, dvc-objects, dulwich, dpath, diskcache, configobj, cffi, billiard, atpublic, pygit2, iterative-telemetry, hydra-core, graphql-relay, flufl.lock, dvc-studio-client, dvc-data, docker, click-repl, click-plugins, click-didyoumean, amqp, kombu, graphene, databricks-sdk, asyncssh, aiohttp-retry, scmrepo, mlflow-skinny, dvc-http, celery, mlflow, gto, dvc-task, gcsfs, dvc, dvc-gs\n",
      "  Attempting uninstall: cffi\n",
      "    Found existing installation: cffi 1.15.1\n",
      "    Uninstalling cffi-1.15.1:\n",
      "      Successfully uninstalled cffi-1.15.1\n",
      "Successfully installed aiohttp-retry-2.9.1 amqp-5.3.1 antlr4-python3-runtime-4.9.3 asyncssh-2.20.0 atpublic-5.1 billiard-4.2.1 celery-5.4.0 cffi-1.17.1 click-didyoumean-0.3.1 click-plugins-1.1.1 click-repl-0.3.0 configobj-5.0.9 databricks-sdk-0.44.1 dictdiffer-0.9.0 diskcache-5.6.3 docker-7.1.0 dpath-2.2.0 dulwich-0.22.8 dvc-3.59.1 dvc-data-3.16.9 dvc-gs-3.0.1 dvc-http-2.32.0 dvc-objects-5.1.0 dvc-render-1.0.2 dvc-studio-client-0.21.0 dvc-task-0.40.2 flatten_dict-0.4.2 flufl.lock-8.1.0 funcy-2.0 gcsfs-2024.5.0 grandalf-0.8 graphene-3.4.3 graphql-core-3.2.6 graphql-relay-3.2.0 gto-1.7.2 hydra-core-1.3.2 iterative-telemetry-0.0.10 kombu-5.4.2 mlflow-2.20.3 mlflow-skinny-2.20.3 omegaconf-2.3.0 pydot-3.0.4 pygit2-1.17.0 pygtrie-2.5.0 scmrepo-3.3.10 shortuuid-1.0.13 shtab-1.7.1 sqlparse-0.5.3 sqltrie-0.11.2 tzdata-2025.1 vine-5.1.0 voluptuous-0.15.2 waitress-3.0.2 zc.lockfile-3.0.post1\n"
     ]
    },
    {
     "name": "stderr",
     "output_type": "stream",
     "text": [
      "WARNING: Ignoring invalid distribution -ensorflow-intel (c:\\users\\nirjhar nath\\anaconda3\\new folder\\lib\\site-packages)\n",
      "WARNING: Ignoring invalid distribution -ensorflow-intel (c:\\users\\nirjhar nath\\anaconda3\\new folder\\lib\\site-packages)\n",
      "WARNING: Ignoring invalid distribution -ensorflow-intel (c:\\users\\nirjhar nath\\anaconda3\\new folder\\lib\\site-packages)\n",
      "    WARNING: Ignoring invalid distribution -ensorflow-intel (c:\\users\\nirjhar nath\\anaconda3\\new folder\\lib\\site-packages)\n",
      "WARNING: Ignoring invalid distribution -ensorflow-intel (c:\\users\\nirjhar nath\\anaconda3\\new folder\\lib\\site-packages)\n",
      "WARNING: Ignoring invalid distribution -ensorflow-intel (c:\\users\\nirjhar nath\\anaconda3\\new folder\\lib\\site-packages)\n",
      "WARNING: Ignoring invalid distribution -ensorflow-intel (c:\\users\\nirjhar nath\\anaconda3\\new folder\\lib\\site-packages)\n",
      "WARNING: Ignoring invalid distribution -ensorflow-intel (c:\\users\\nirjhar nath\\anaconda3\\new folder\\lib\\site-packages)\n",
      "WARNING: Ignoring invalid distribution -ensorflow-intel (c:\\users\\nirjhar nath\\anaconda3\\new folder\\lib\\site-packages)\n",
      "WARNING: Ignoring invalid distribution -ensorflow-intel (c:\\users\\nirjhar nath\\anaconda3\\new folder\\lib\\site-packages)\n",
      "WARNING: Ignoring invalid distribution -ensorflow-intel (c:\\users\\nirjhar nath\\anaconda3\\new folder\\lib\\site-packages)\n",
      "WARNING: Ignoring invalid distribution -ensorflow-intel (c:\\users\\nirjhar nath\\anaconda3\\new folder\\lib\\site-packages)\n",
      "WARNING: Ignoring invalid distribution -ensorflow-intel (c:\\users\\nirjhar nath\\anaconda3\\new folder\\lib\\site-packages)\n",
      "WARNING: Ignoring invalid distribution -ensorflow-intel (c:\\users\\nirjhar nath\\anaconda3\\new folder\\lib\\site-packages)\n",
      "WARNING: Ignoring invalid distribution -ensorflow-intel (c:\\users\\nirjhar nath\\anaconda3\\new folder\\lib\\site-packages)\n",
      "WARNING: Ignoring invalid distribution -ensorflow-intel (c:\\users\\nirjhar nath\\anaconda3\\new folder\\lib\\site-packages)\n",
      "WARNING: Ignoring invalid distribution -ensorflow-intel (c:\\users\\nirjhar nath\\anaconda3\\new folder\\lib\\site-packages)\n",
      "WARNING: Ignoring invalid distribution -ensorflow-intel (c:\\users\\nirjhar nath\\anaconda3\\new folder\\lib\\site-packages)\n",
      "WARNING: Ignoring invalid distribution -ensorflow-intel (c:\\users\\nirjhar nath\\anaconda3\\new folder\\lib\\site-packages)\n",
      "WARNING: Ignoring invalid distribution -ensorflow-intel (c:\\users\\nirjhar nath\\anaconda3\\new folder\\lib\\site-packages)\n",
      "WARNING: Ignoring invalid distribution -ensorflow-intel (c:\\users\\nirjhar nath\\anaconda3\\new folder\\lib\\site-packages)\n",
      "WARNING: Ignoring invalid distribution -ensorflow-intel (c:\\users\\nirjhar nath\\anaconda3\\new folder\\lib\\site-packages)\n",
      "WARNING: Ignoring invalid distribution -ensorflow-intel (c:\\users\\nirjhar nath\\anaconda3\\new folder\\lib\\site-packages)\n",
      "WARNING: Ignoring invalid distribution -ensorflow-intel (c:\\users\\nirjhar nath\\anaconda3\\new folder\\lib\\site-packages)\n",
      "WARNING: Ignoring invalid distribution -ensorflow-intel (c:\\users\\nirjhar nath\\anaconda3\\new folder\\lib\\site-packages)\n",
      "WARNING: Ignoring invalid distribution -ensorflow-intel (c:\\users\\nirjhar nath\\anaconda3\\new folder\\lib\\site-packages)\n",
      "WARNING: Ignoring invalid distribution -ensorflow-intel (c:\\users\\nirjhar nath\\anaconda3\\new folder\\lib\\site-packages)\n",
      "WARNING: Ignoring invalid distribution -ensorflow-intel (c:\\users\\nirjhar nath\\anaconda3\\new folder\\lib\\site-packages)\n",
      "WARNING: Ignoring invalid distribution -ensorflow-intel (c:\\users\\nirjhar nath\\anaconda3\\new folder\\lib\\site-packages)\n",
      "WARNING: Ignoring invalid distribution -ensorflow-intel (c:\\users\\nirjhar nath\\anaconda3\\new folder\\lib\\site-packages)\n",
      "WARNING: Ignoring invalid distribution -ensorflow-intel (c:\\users\\nirjhar nath\\anaconda3\\new folder\\lib\\site-packages)\n",
      "WARNING: Ignoring invalid distribution -ensorflow-intel (c:\\users\\nirjhar nath\\anaconda3\\new folder\\lib\\site-packages)\n",
      "WARNING: Ignoring invalid distribution -ensorflow-intel (c:\\users\\nirjhar nath\\anaconda3\\new folder\\lib\\site-packages)\n",
      "WARNING: Ignoring invalid distribution -ensorflow-intel (c:\\users\\nirjhar nath\\anaconda3\\new folder\\lib\\site-packages)\n",
      "WARNING: Ignoring invalid distribution -ensorflow-intel (c:\\users\\nirjhar nath\\anaconda3\\new folder\\lib\\site-packages)\n",
      "WARNING: Ignoring invalid distribution -ensorflow-intel (c:\\users\\nirjhar nath\\anaconda3\\new folder\\lib\\site-packages)\n",
      "WARNING: Ignoring invalid distribution -ensorflow-intel (c:\\users\\nirjhar nath\\anaconda3\\new folder\\lib\\site-packages)\n",
      "WARNING: Ignoring invalid distribution -ensorflow-intel (c:\\users\\nirjhar nath\\anaconda3\\new folder\\lib\\site-packages)\n",
      "WARNING: Ignoring invalid distribution -ensorflow-intel (c:\\users\\nirjhar nath\\anaconda3\\new folder\\lib\\site-packages)\n",
      "WARNING: Ignoring invalid distribution -ensorflow-intel (c:\\users\\nirjhar nath\\anaconda3\\new folder\\lib\\site-packages)\n",
      "WARNING: Ignoring invalid distribution -ensorflow-intel (c:\\users\\nirjhar nath\\anaconda3\\new folder\\lib\\site-packages)\n",
      "WARNING: Ignoring invalid distribution -ensorflow-intel (c:\\users\\nirjhar nath\\anaconda3\\new folder\\lib\\site-packages)\n",
      "WARNING: Ignoring invalid distribution -ensorflow-intel (c:\\users\\nirjhar nath\\anaconda3\\new folder\\lib\\site-packages)\n",
      "WARNING: Ignoring invalid distribution -ensorflow-intel (c:\\users\\nirjhar nath\\anaconda3\\new folder\\lib\\site-packages)\n",
      "WARNING: Ignoring invalid distribution -ensorflow-intel (c:\\users\\nirjhar nath\\anaconda3\\new folder\\lib\\site-packages)\n",
      "WARNING: Ignoring invalid distribution -ensorflow-intel (c:\\users\\nirjhar nath\\anaconda3\\new folder\\lib\\site-packages)\n",
      "WARNING: Ignoring invalid distribution -ensorflow-intel (c:\\users\\nirjhar nath\\anaconda3\\new folder\\lib\\site-packages)\n",
      "WARNING: Ignoring invalid distribution -ensorflow-intel (c:\\users\\nirjhar nath\\anaconda3\\new folder\\lib\\site-packages)\n",
      "WARNING: Ignoring invalid distribution -ensorflow-intel (c:\\users\\nirjhar nath\\anaconda3\\new folder\\lib\\site-packages)\n",
      "WARNING: Ignoring invalid distribution -ensorflow-intel (c:\\users\\nirjhar nath\\anaconda3\\new folder\\lib\\site-packages)\n",
      "WARNING: Ignoring invalid distribution -ensorflow-intel (c:\\users\\nirjhar nath\\anaconda3\\new folder\\lib\\site-packages)\n",
      "WARNING: Ignoring invalid distribution -ensorflow-intel (c:\\users\\nirjhar nath\\anaconda3\\new folder\\lib\\site-packages)\n",
      "WARNING: Ignoring invalid distribution -ensorflow-intel (c:\\users\\nirjhar nath\\anaconda3\\new folder\\lib\\site-packages)\n",
      "WARNING: Ignoring invalid distribution -ensorflow-intel (c:\\users\\nirjhar nath\\anaconda3\\new folder\\lib\\site-packages)\n",
      "WARNING: Ignoring invalid distribution -ensorflow-intel (c:\\users\\nirjhar nath\\anaconda3\\new folder\\lib\\site-packages)\n",
      "WARNING: Ignoring invalid distribution -ensorflow-intel (c:\\users\\nirjhar nath\\anaconda3\\new folder\\lib\\site-packages)\n",
      "WARNING: Ignoring invalid distribution -ensorflow-intel (c:\\users\\nirjhar nath\\anaconda3\\new folder\\lib\\site-packages)\n",
      "WARNING: Ignoring invalid distribution -ensorflow-intel (c:\\users\\nirjhar nath\\anaconda3\\new folder\\lib\\site-packages)\n",
      "ERROR: pip's dependency resolver does not currently take into account all the packages that are installed. This behaviour is the source of the following dependency conflicts.\n",
      "anaconda-cloud-auth 0.1.4 requires pydantic<2.0, but you have pydantic 2.7.1 which is incompatible.\n",
      "anaconda-cloud-auth 0.1.4 requires semver<3, but you have semver 3.0.2 which is incompatible.\n",
      "WARNING: Ignoring invalid distribution -ensorflow-intel (c:\\users\\nirjhar nath\\anaconda3\\new folder\\lib\\site-packages)\n",
      "WARNING: Ignoring invalid distribution -ensorflow-intel (c:\\users\\nirjhar nath\\anaconda3\\new folder\\lib\\site-packages)\n",
      "WARNING: Ignoring invalid distribution -ensorflow-intel (c:\\users\\nirjhar nath\\anaconda3\\new folder\\lib\\site-packages)\n"
     ]
    }
   ],
   "source": [
    "!pip install pandas numpy scikit-learn dvc[gs] mlflow"
   ]
  },
  {
   "cell_type": "code",
   "execution_count": 4,
   "metadata": {},
   "outputs": [
    {
     "name": "stdout",
     "output_type": "stream",
     "text": [
      "Initialized DVC repository.\n",
      "\n",
      "+---------------------------------------------------------------------+\n",
      "|                                                                     |\n",
      "|        DVC has enabled anonymous aggregate usage analytics.         |\n",
      "|     Read the analytics documentation (and how to opt-out) here:     |\n",
      "|             <https://dvc.org/doc/user-guide/analytics>              |\n",
      "|                                                                     |\n",
      "+---------------------------------------------------------------------+\n",
      "\n",
      "What's next?\n",
      "------------\n",
      "- Check out the documentation: <https://dvc.org/doc>\n",
      "- Get help and share ideas: <https://dvc.org/chat>\n",
      "- Star us on GitHub: <https://github.com/iterative/dvc>\n"
     ]
    }
   ],
   "source": [
    "!dvc init --no-scm"
   ]
  },
  {
   "cell_type": "code",
   "execution_count": 5,
   "metadata": {},
   "outputs": [
    {
     "name": "stdout",
     "output_type": "stream",
     "text": [
      "Setting 'myremote' as a default remote.\n"
     ]
    }
   ],
   "source": [
    "!dvc remote add -d myremote gdrive://1xxxd-5UG6OEYvQZriN7-qTKCUo2s-AXI\n",
    "!dvc remote modify myremote gdrive_use_service_account true"
   ]
  },
  {
   "cell_type": "code",
   "execution_count": 1,
   "metadata": {},
   "outputs": [],
   "source": [
    "import os\n",
    "import csv\n",
    "import pandas as pd\n",
    "import dvc.api\n",
    "import mlflow\n",
    "import mlflow.sklearn\n",
    "from sklearn.model_selection import train_test_split\n",
    "from sklearn.ensemble import RandomForestClassifier, GradientBoostingClassifier\n",
    "from sklearn.metrics import average_precision_score\n",
    "from nltk.tokenize import word_tokenize\n",
    "from nltk.corpus import stopwords\n",
    "from nltk.stem import WordNetLemmatizer"
   ]
  },
  {
   "cell_type": "code",
   "execution_count": 10,
   "metadata": {},
   "outputs": [
    {
     "name": "stderr",
     "output_type": "stream",
     "text": [
      "[nltk_data] Downloading package punkt to C:\\Users\\Nirjhar\n",
      "[nltk_data]     Nath\\AppData\\Roaming\\nltk_data...\n",
      "[nltk_data]   Package punkt is already up-to-date!\n",
      "[nltk_data] Downloading package stopwords to C:\\Users\\Nirjhar\n",
      "[nltk_data]     Nath\\AppData\\Roaming\\nltk_data...\n",
      "[nltk_data]   Unzipping corpora\\stopwords.zip.\n",
      "[nltk_data] Downloading package wordnet to C:\\Users\\Nirjhar\n",
      "[nltk_data]     Nath\\AppData\\Roaming\\nltk_data...\n"
     ]
    },
    {
     "data": {
      "text/plain": [
       "True"
      ]
     },
     "execution_count": 10,
     "metadata": {},
     "output_type": "execute_result"
    }
   ],
   "source": [
    "# Ensuring NLTK resources are available\n",
    "nltk.download('punkt')\n",
    "nltk.download('stopwords')\n",
    "nltk.download('wordnet')"
   ]
  },
  {
   "cell_type": "code",
   "execution_count": 2,
   "metadata": {},
   "outputs": [],
   "source": [
    "# Set up directories\n",
    "data_dir = \"./data\"\n",
    "os.makedirs(data_dir, exist_ok=True)"
   ]
  },
  {
   "cell_type": "code",
   "execution_count": 3,
   "metadata": {},
   "outputs": [],
   "source": [
    "# Load data\n",
    "def load_data(filepath):\n",
    "    return pd.read_csv(filepath, sep='\\t', quoting=csv.QUOTE_NONE, names=['label', 'message'])"
   ]
  },
  {
   "cell_type": "code",
   "execution_count": 12,
   "metadata": {},
   "outputs": [],
   "source": [
    "def preprocess_text(text):\n",
    "    if not isinstance(text, str):\n",
    "        return \"\"  # Return empty string for invalid input\n",
    "    stop_words = set(stopwords.words('english'))\n",
    "    lemmatizer = WordNetLemmatizer()\n",
    "    tokens = [lemmatizer.lemmatize(token.lower()) for token in word_tokenize(text) if token.lower() not in stop_words]\n",
    "    return \" \".join(tokens)"
   ]
  },
  {
   "cell_type": "code",
   "execution_count": 5,
   "metadata": {},
   "outputs": [],
   "source": [
    "# Encode labels\n",
    "def encode_label(text):\n",
    "    return 1 if text == 'spam' else 0"
   ]
  },
  {
   "cell_type": "code",
   "execution_count": 6,
   "metadata": {},
   "outputs": [],
   "source": [
    "# Split data\n",
    "def split_data(df, seed, train_size=0.7, val_size=0.15, test_size=0.15):\n",
    "    train_df, val_test_df = train_test_split(df, test_size=1-train_size, random_state=seed)\n",
    "    val_df, test_df = train_test_split(val_test_df, test_size=test_size/(1-train_size), random_state=seed)\n",
    "    return train_df, val_df, test_df"
   ]
  },
  {
   "cell_type": "code",
   "execution_count": 7,
   "metadata": {},
   "outputs": [],
   "source": [
    "# Store CSV\n",
    "def store_as_csv(df, name):\n",
    "    df.to_csv(name, index=False)"
   ]
  },
  {
   "cell_type": "code",
   "execution_count": 8,
   "metadata": {},
   "outputs": [],
   "source": [
    "# Print label distribution\n",
    "def print_variable_distribution(df, name):\n",
    "    print(f\"{name} - 0s: {len(df) - df.label.sum()}, 1s: {df.label.sum()}\")"
   ]
  },
  {
   "cell_type": "code",
   "execution_count": 9,
   "metadata": {},
   "outputs": [
    {
     "data": {
      "text/plain": [
       "1"
      ]
     },
     "execution_count": 9,
     "metadata": {},
     "output_type": "execute_result"
    }
   ],
   "source": [
    "# Initialize DVC\n",
    "os.system(\"dvc init --subdir -f\")"
   ]
  },
  {
   "cell_type": "code",
   "execution_count": 10,
   "metadata": {},
   "outputs": [
    {
     "data": {
      "text/plain": [
       "1"
      ]
     },
     "execution_count": 10,
     "metadata": {},
     "output_type": "execute_result"
    }
   ],
   "source": [
    "# Track with DVC and Google Drive\n",
    "os.system(\"dvc remote add --default myremote gdrive://1xxxd-5UG6OEYvQZriN7-qTKCUo2s-AXI\")\n",
    "os.system(\"dvc remote modify myremote gdrive_acknowledge_abuse true\")\n",
    "os.system(\"git add .dvc/config -f\")"
   ]
  },
  {
   "cell_type": "code",
   "execution_count": 27,
   "metadata": {},
   "outputs": [
    {
     "data": {
      "text/html": [
       "<div>\n",
       "<style scoped>\n",
       "    .dataframe tbody tr th:only-of-type {\n",
       "        vertical-align: middle;\n",
       "    }\n",
       "\n",
       "    .dataframe tbody tr th {\n",
       "        vertical-align: top;\n",
       "    }\n",
       "\n",
       "    .dataframe thead th {\n",
       "        text-align: right;\n",
       "    }\n",
       "</style>\n",
       "<table border=\"1\" class=\"dataframe\">\n",
       "  <thead>\n",
       "    <tr style=\"text-align: right;\">\n",
       "      <th></th>\n",
       "      <th>label</th>\n",
       "      <th>message</th>\n",
       "    </tr>\n",
       "  </thead>\n",
       "  <tbody>\n",
       "    <tr>\n",
       "      <th>0</th>\n",
       "      <td>ham</td>\n",
       "      <td>Go until jurong point, crazy.. Available only ...</td>\n",
       "    </tr>\n",
       "    <tr>\n",
       "      <th>1</th>\n",
       "      <td>ham</td>\n",
       "      <td>Ok lar... Joking wif u oni...</td>\n",
       "    </tr>\n",
       "    <tr>\n",
       "      <th>2</th>\n",
       "      <td>spam</td>\n",
       "      <td>Free entry in 2 a wkly comp to win FA Cup fina...</td>\n",
       "    </tr>\n",
       "    <tr>\n",
       "      <th>3</th>\n",
       "      <td>ham</td>\n",
       "      <td>U dun say so early hor... U c already then say...</td>\n",
       "    </tr>\n",
       "    <tr>\n",
       "      <th>4</th>\n",
       "      <td>ham</td>\n",
       "      <td>Nah I don't think he goes to usf, he lives aro...</td>\n",
       "    </tr>\n",
       "  </tbody>\n",
       "</table>\n",
       "</div>"
      ],
      "text/plain": [
       "  label                                            message\n",
       "0   ham  Go until jurong point, crazy.. Available only ...\n",
       "1   ham                      Ok lar... Joking wif u oni...\n",
       "2  spam  Free entry in 2 a wkly comp to win FA Cup fina...\n",
       "3   ham  U dun say so early hor... U c already then say...\n",
       "4   ham  Nah I don't think he goes to usf, he lives aro..."
      ]
     },
     "execution_count": 27,
     "metadata": {},
     "output_type": "execute_result"
    }
   ],
   "source": [
    "messages = pd.read_csv(\"data/raw_data.csv\", delimiter=\",\")\n",
    "messages.head()"
   ]
  },
  {
   "cell_type": "code",
   "execution_count": 28,
   "metadata": {},
   "outputs": [],
   "source": [
    "messages['label'] = messages['label'].apply(encode_label)"
   ]
  },
  {
   "cell_type": "code",
   "execution_count": 36,
   "metadata": {},
   "outputs": [
    {
     "data": {
      "text/html": [
       "<div>\n",
       "<style scoped>\n",
       "    .dataframe tbody tr th:only-of-type {\n",
       "        vertical-align: middle;\n",
       "    }\n",
       "\n",
       "    .dataframe tbody tr th {\n",
       "        vertical-align: top;\n",
       "    }\n",
       "\n",
       "    .dataframe thead th {\n",
       "        text-align: right;\n",
       "    }\n",
       "</style>\n",
       "<table border=\"1\" class=\"dataframe\">\n",
       "  <thead>\n",
       "    <tr style=\"text-align: right;\">\n",
       "      <th></th>\n",
       "      <th>label</th>\n",
       "      <th>message</th>\n",
       "    </tr>\n",
       "  </thead>\n",
       "  <tbody>\n",
       "    <tr>\n",
       "      <th>0</th>\n",
       "      <td>0</td>\n",
       "      <td>Go until jurong point, crazy.. Available only ...</td>\n",
       "    </tr>\n",
       "    <tr>\n",
       "      <th>1</th>\n",
       "      <td>0</td>\n",
       "      <td>Ok lar... Joking wif u oni...</td>\n",
       "    </tr>\n",
       "    <tr>\n",
       "      <th>2</th>\n",
       "      <td>1</td>\n",
       "      <td>Free entry in 2 a wkly comp to win FA Cup fina...</td>\n",
       "    </tr>\n",
       "    <tr>\n",
       "      <th>3</th>\n",
       "      <td>0</td>\n",
       "      <td>U dun say so early hor... U c already then say...</td>\n",
       "    </tr>\n",
       "    <tr>\n",
       "      <th>4</th>\n",
       "      <td>0</td>\n",
       "      <td>Nah I don't think he goes to usf, he lives aro...</td>\n",
       "    </tr>\n",
       "  </tbody>\n",
       "</table>\n",
       "</div>"
      ],
      "text/plain": [
       "   label                                            message\n",
       "0      0  Go until jurong point, crazy.. Available only ...\n",
       "1      0                      Ok lar... Joking wif u oni...\n",
       "2      1  Free entry in 2 a wkly comp to win FA Cup fina...\n",
       "3      0  U dun say so early hor... U c already then say...\n",
       "4      0  Nah I don't think he goes to usf, he lives aro..."
      ]
     },
     "execution_count": 36,
     "metadata": {},
     "output_type": "execute_result"
    }
   ],
   "source": [
    "messages.head()"
   ]
  },
  {
   "cell_type": "code",
   "execution_count": 30,
   "metadata": {},
   "outputs": [],
   "source": [
    "store_as_csv(messages, \"./data/raw_data.csv\")"
   ]
  },
  {
   "cell_type": "code",
   "execution_count": 31,
   "metadata": {},
   "outputs": [
    {
     "data": {
      "text/plain": [
       "1"
      ]
     },
     "execution_count": 31,
     "metadata": {},
     "output_type": "execute_result"
    }
   ],
   "source": [
    "# Add to DVC\n",
    "os.system(\"dvc add data/raw_data.csv\")\n",
    "os.system(\"git commit -m 'Added raw_data.csv'\")"
   ]
  },
  {
   "cell_type": "code",
   "execution_count": 33,
   "metadata": {},
   "outputs": [
    {
     "data": {
      "text/plain": [
       "1"
      ]
     },
     "execution_count": 33,
     "metadata": {},
     "output_type": "execute_result"
    }
   ],
   "source": [
    "# Train-validation-test split (SEED1)\n",
    "SEED1 = 2032\n",
    "train_df, val_df, test_df = split_data(messages, seed=SEED1)\n",
    "store_as_csv(train_df, \"./data/train.csv\")\n",
    "store_as_csv(val_df, \"./data/validation.csv\")\n",
    "store_as_csv(test_df, \"./data/test.csv\")\n",
    "\n",
    "os.system(\"dvc add data/train.csv data/validation.csv data/test.csv\")\n",
    "os.system(\"git commit -m 'Added train, validation, test data for SEED1'\")"
   ]
  },
  {
   "cell_type": "code",
   "execution_count": 34,
   "metadata": {},
   "outputs": [
    {
     "data": {
      "text/plain": [
       "1"
      ]
     },
     "execution_count": 34,
     "metadata": {},
     "output_type": "execute_result"
    }
   ],
   "source": [
    "# Train-validation-test split (SEED2)\n",
    "SEED2 = 2001\n",
    "train_df, val_df, test_df = split_data(messages, seed=SEED2)\n",
    "store_as_csv(train_df, \"./data/train.csv\")\n",
    "store_as_csv(val_df, \"./data/validation.csv\")\n",
    "store_as_csv(test_df, \"./data/test.csv\")\n",
    "\n",
    "os.system(\"dvc add data/train.csv data/validation.csv data/test.csv\")\n",
    "os.system(\"git commit -m 'Added train, validation, test data for SEED2'\")"
   ]
  },
  {
   "cell_type": "code",
   "execution_count": 35,
   "metadata": {},
   "outputs": [
    {
     "data": {
      "text/plain": [
       "251"
      ]
     },
     "execution_count": 35,
     "metadata": {},
     "output_type": "execute_result"
    }
   ],
   "source": [
    "# Checkout first version and print distributions\n",
    "os.system(\"git checkout HEAD~1 data/train.csv.dvc data/validation.csv.dvc data/test.csv.dvc\")\n",
    "os.system(\"dvc pull\")"
   ]
  },
  {
   "cell_type": "code",
   "execution_count": null,
   "metadata": {},
   "outputs": [],
   "source": []
  }
 ],
 "metadata": {
  "kernelspec": {
   "display_name": "Python 3 (ipykernel)",
   "language": "python",
   "name": "python3"
  },
  "language_info": {
   "codemirror_mode": {
    "name": "ipython",
    "version": 3
   },
   "file_extension": ".py",
   "mimetype": "text/x-python",
   "name": "python",
   "nbconvert_exporter": "python",
   "pygments_lexer": "ipython3",
   "version": "3.10.13"
  }
 },
 "nbformat": 4,
 "nbformat_minor": 2
}
